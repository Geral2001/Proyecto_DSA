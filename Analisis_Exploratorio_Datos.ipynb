{
 "cells": [
  {
   "cell_type": "markdown",
   "id": "e16c5d51",
   "metadata": {},
   "source": [
    "# ANÁLISIS EXPLORATORIO DE DATOS"
   ]
  },
  {
   "cell_type": "markdown",
   "id": "0d62adba",
   "metadata": {},
   "source": [
    "## 1. Importar Librerias"
   ]
  },
  {
   "cell_type": "code",
   "execution_count": 1,
   "id": "05dd092f",
   "metadata": {},
   "outputs": [],
   "source": [
    "# Librerias\n",
    "\n",
    "import pandas as pd"
   ]
  },
  {
   "cell_type": "markdown",
   "id": "ad9c3e75",
   "metadata": {},
   "source": [
    "## 2. Traer Datos de Defunciones de 1979 - 1991"
   ]
  },
  {
   "cell_type": "code",
   "execution_count": null,
   "id": "6618dca4",
   "metadata": {},
   "outputs": [],
   "source": []
  }
 ],
 "metadata": {
  "kernelspec": {
   "display_name": "base",
   "language": "python",
   "name": "python3"
  },
  "language_info": {
   "codemirror_mode": {
    "name": "ipython",
    "version": 3
   },
   "file_extension": ".py",
   "mimetype": "text/x-python",
   "name": "python",
   "nbconvert_exporter": "python",
   "pygments_lexer": "ipython3",
   "version": "3.12.7"
  }
 },
 "nbformat": 4,
 "nbformat_minor": 5
}
