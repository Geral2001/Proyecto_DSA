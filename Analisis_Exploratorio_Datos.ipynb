{
 "cells": [
  {
   "cell_type": "markdown",
   "id": "e16c5d51",
   "metadata": {},
   "source": [
    "# ANÁLISIS EXPLORATORIO DE DATOS"
   ]
  },
  {
   "cell_type": "markdown",
   "id": "0d62adba",
   "metadata": {},
   "source": [
    "## 1. Importar Librerias"
   ]
  },
  {
   "cell_type": "code",
   "execution_count": 1,
   "id": "05dd092f",
   "metadata": {},
   "outputs": [],
   "source": [
    "# Librerias\n",
    "\n",
    "import pandas as pd\n",
    "import os\n",
    "from pathlib import Path"
   ]
  },
  {
   "cell_type": "markdown",
   "id": "ad9c3e75",
   "metadata": {},
   "source": [
    "## 2. Traer Datos"
   ]
  },
  {
   "cell_type": "markdown",
   "id": "7dc54752",
   "metadata": {},
   "source": [
    "### 2.1. Traer Datos de Defunciones de 1979 - 1991"
   ]
  },
  {
   "cell_type": "code",
   "execution_count": 2,
   "id": "6618dca4",
   "metadata": {},
   "outputs": [
    {
     "name": "stdout",
     "output_type": "stream",
     "text": [
      "📁 Archivos encontrados: ['Defun1979.txt', 'Defun1980.txt', 'Defun1981.txt', 'Defun1982.txt', 'Defun1983.txt', 'Defun1984.txt', 'Defun1985.txt', 'Defun1986.txt', 'Defun1987.txt', 'Defun1988.txt', 'Defun1989.txt', 'Defun1990.txt', 'Defun1991.txt', 'Defun1992.txt', 'Defun1993.txt', 'Defun1994.txt', 'Defun1995.txt', 'Defun1996.txt', 'Defun1997.txt', 'Defun1998.txt', 'Defun1999.txt', 'Defun2000.txt', 'Defun2001.txt', 'Defun2002.txt', 'Defun2003.txt', 'Defun2004.txt', 'Defun2005.txt', 'Defun2006.txt', 'Defun2007.txt', 'Defun2012.txt', 'Defun2013.txt']\n",
      "✅ Defun1979.txt: 110400 filas, 14 columnas\n",
      "✅ Defun1980.txt: 125573 filas, 14 columnas\n",
      "✅ Defun1981.txt: 139505 filas, 14 columnas\n",
      "✅ Defun1982.txt: 137678 filas, 14 columnas\n",
      "✅ Defun1983.txt: 140292 filas, 14 columnas\n",
      "✅ Defun1984.txt: 137189 filas, 14 columnas\n",
      "✅ Defun1985.txt: 153947 filas, 14 columnas\n",
      "✅ Defun1986.txt: 146346 filas, 14 columnas\n",
      "✅ Defun1987.txt: 151957 filas, 14 columnas\n",
      "✅ Defun1988.txt: 153067 filas, 14 columnas\n",
      "✅ Defun1989.txt: 154694 filas, 14 columnas\n",
      "✅ Defun1990.txt: 154685 filas, 14 columnas\n",
      "✅ Defun1991.txt: 163692 filas, 14 columnas\n"
     ]
    }
   ],
   "source": [
    "# Ruta de los archivos\n",
    "ruta_muertes = Path(\"data/raw/Muertes\")\n",
    "\n",
    "# Verificar si la carpeta existe\n",
    "if not ruta_muertes.exists():\n",
    "    print(f\"❌ La carpeta {ruta_muertes} no existe\")\n",
    "else:\n",
    "    # Listar todos los archivos .txt en la carpeta\n",
    "    archivos = list(ruta_muertes.glob(\"Defun*.txt\"))\n",
    "    print(f\"📁 Archivos encontrados: {[arch.name for arch in archivos]}\")\n",
    "    \n",
    "    # Filtrar por años 1979-1991\n",
    "    archivos_filtrados = [arch for arch in archivos if 1979 <= int(arch.stem[-4:]) <= 1991]\n",
    "    \n",
    "    dataframes = {}\n",
    "    \n",
    "    for archivo in archivos_filtrados:\n",
    "        try:\n",
    "            # Extraer año del nombre del archivo\n",
    "            año = archivo.stem[-4:]\n",
    "            \n",
    "            # Leer archivo (prueba diferentes encodings si es necesario)\n",
    "            df = pd.read_csv(\n",
    "                archivo,\n",
    "                sep='\\t',        # ajusta el separador\n",
    "                encoding='utf-8', # prueba 'latin-1', 'ISO-8859-1' si falla\n",
    "                low_memory=False\n",
    "            )\n",
    "            \n",
    "            dataframes[f'defun_{año}'] = df\n",
    "            print(f\"✅ {archivo.name}: {len(df)} filas, {len(df.columns)} columnas\")\n",
    "            \n",
    "        except Exception as e:\n",
    "            print(f\"❌ Error con {archivo.name}: {e}\")"
   ]
  }
 ],
 "metadata": {
  "kernelspec": {
   "display_name": "base",
   "language": "python",
   "name": "python3"
  },
  "language_info": {
   "codemirror_mode": {
    "name": "ipython",
    "version": 3
   },
   "file_extension": ".py",
   "mimetype": "text/x-python",
   "name": "python",
   "nbconvert_exporter": "python",
   "pygments_lexer": "ipython3",
   "version": "3.12.7"
  }
 },
 "nbformat": 4,
 "nbformat_minor": 5
}
