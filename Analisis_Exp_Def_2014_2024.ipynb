{
  "nbformat": 4,
  "nbformat_minor": 0,
  "metadata": {
    "colab": {
      "provenance": []
    },
    "kernelspec": {
      "name": "python3",
      "display_name": "Python 3"
    },
    "language_info": {
      "name": "python"
    }
  },
  "cells": [
    {
      "cell_type": "markdown",
      "source": [
        "#**DEPURACION DEFUNCIONES 2014-2024**\n"
      ],
      "metadata": {
        "id": "B4LGaALSEHxl"
      }
    },
    {
      "cell_type": "markdown",
      "source": [
        "**1. IMPORTAR LIBRERIAS**"
      ],
      "metadata": {
        "id": "qgXu7lvwEWg6"
      }
    },
    {
      "cell_type": "code",
      "execution_count": 1,
      "metadata": {
        "id": "5rZdQAyMD0QZ"
      },
      "outputs": [],
      "source": [
        "### IMPORTAR LIBRERIAS ###\n",
        "import pandas as pd\n",
        "import numpy as np\n",
        "from pathlib import Path\n",
        "from tqdm import tqdm\n",
        "import warnings\n",
        "warnings.filterwarnings('ignore')"
      ]
    },
    {
      "cell_type": "markdown",
      "source": [
        "**2. CREAR FUNCIONES**\n"
      ],
      "metadata": {
        "id": "Ac1e7n9AEd9a"
      }
    },
    {
      "cell_type": "markdown",
      "source": [
        "**2.1. FUNCIÓN LLAMADO DE DATOS**"
      ],
      "metadata": {
        "id": "qhdGhWLXEsAa"
      }
    },
    {
      "cell_type": "code",
      "source": [
        "def leer_archivos_defunciones_csv(ruta_carpeta, año_inicio, año_fin):\n",
        "    \"\"\"Lee y unifica archivos CSV en un rango de años.\"\"\"\n",
        "    ruta = Path(ruta_carpeta)\n",
        "    archivos = [\n",
        "        arch for arch in ruta.glob(\"Defun*.csv\")\n",
        "        if any(str(año) in arch.stem for año in range(año_inicio, año_fin + 1))\n",
        "    ]\n",
        "\n",
        "    dfs = []\n",
        "    for archivo in tqdm(archivos, desc=f\"Leyendo archivos {año_inicio}-{año_fin}\"):\n",
        "        try:\n",
        "            df = pd.read_csv(archivo, encoding='utf-8', low_memory=False)\n",
        "            df.columns = df.columns.str.upper().str.strip()\n",
        "            dfs.append(df)\n",
        "        except Exception as e:\n",
        "            print(f\"Error al leer {archivo.name}: {e}\")\n",
        "\n",
        "    if not dfs:\n",
        "        print(\" No se encontraron archivos CSV en el rango indicado.\")\n",
        "        return pd.DataFrame()\n",
        "\n",
        "    df_total = pd.concat(dfs, ignore_index=True)\n",
        "    print(f\" {len(df_total):,} registros combinados de {len(archivos)} archivos.\")\n",
        "    return df_total"
      ],
      "metadata": {
        "id": "5ziCvgJPErVT"
      },
      "execution_count": 2,
      "outputs": []
    },
    {
      "cell_type": "markdown",
      "source": [
        "**3. EJECUTAR PROCESO PRINCIPAL**\n"
      ],
      "metadata": {
        "id": "VccmayBuFfqD"
      }
    },
    {
      "cell_type": "code",
      "source": [
        "# =============================================================================\n",
        "#PROCESO PRINCIPAL\n",
        "# =============================================================================\n",
        "\n",
        "print(\"=\" * 60)\n",
        "print(\"ANÁLISIS EXPLORATORIO DE DATOS - DEFUNCIONES 2014-2024\")\n",
        "print(\"=\" * 60)\n",
        "\n",
        "# 2.1. Leer archivos de defunciones\n",
        "print(\"\\n1. LEYENDO ARCHIVOS DE DEFUNCIONES...\")\n",
        "df_defun = leer_archivos_defunciones_csv(\"data/raw/Muertes\", 2014, 2024)\n",
        "print(f\"   Total registros: {len(df_defun):,}\")\n",
        "print(f\"   Columnas: {list(df_defun.columns)}\")"
      ],
      "metadata": {
        "colab": {
          "base_uri": "https://localhost:8080/"
        },
        "id": "1u2QEjk6FrES",
        "outputId": "bda65d1d-d96b-49ec-cd98-203f51865a9c"
      },
      "execution_count": 3,
      "outputs": [
        {
          "output_type": "stream",
          "name": "stdout",
          "text": [
            "============================================================\n",
            "ANÁLISIS EXPLORATORIO DE DATOS - DEFUNCIONES 2014-2024\n",
            "============================================================\n",
            "\n",
            "1. LEYENDO ARCHIVOS DE DEFUNCIONES...\n"
          ]
        },
        {
          "output_type": "stream",
          "name": "stderr",
          "text": [
            "Leyendo archivos 2014-2024: 0it [00:00, ?it/s]"
          ]
        },
        {
          "output_type": "stream",
          "name": "stdout",
          "text": [
            " No se encontraron archivos CSV en el rango indicado.\n",
            "   Total registros: 0\n",
            "   Columnas: []\n"
          ]
        },
        {
          "output_type": "stream",
          "name": "stderr",
          "text": [
            "\n"
          ]
        }
      ]
    }
  ]
}