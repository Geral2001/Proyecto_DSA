{
 "cells": [
  {
   "cell_type": "markdown",
   "id": "a2652433",
   "metadata": {},
   "source": [
    "# DEPURACION DEFUNCIONES 1992-1996"
   ]
  },
  {
   "cell_type": "markdown",
   "id": "abe67424",
   "metadata": {},
   "source": [
    "## 1. IMPORTAR LIBRERIAS"
   ]
  },
  {
   "cell_type": "code",
   "execution_count": 1,
   "id": "8ac42a5f",
   "metadata": {},
   "outputs": [],
   "source": [
    "### IMPORTAR LIBRERIAS ###\n",
    "import pandas as pd\n",
    "import numpy as np\n",
    "from pathlib import Path\n",
    "from tqdm import tqdm\n",
    "import warnings\n",
    "warnings.filterwarnings('ignore')"
   ]
  },
  {
   "cell_type": "markdown",
   "id": "78fd653b",
   "metadata": {},
   "source": [
    "## 2. Crear Funciones"
   ]
  },
  {
   "cell_type": "markdown",
   "id": "005ef554",
   "metadata": {},
   "source": [
    "### 2.1. FUNCION LLAMADO DE DATOS"
   ]
  },
  {
   "cell_type": "code",
   "execution_count": 2,
   "id": "8c36db31",
   "metadata": {},
   "outputs": [],
   "source": [
    "def leer_archivos_defunciones(ruta_carpeta, año_inicio, año_fin):\n",
    "    \"\"\"Lee y unifica archivos de defunciones en un rango de años\"\"\"\n",
    "    ruta = Path(ruta_carpeta)\n",
    "    archivos = [arch for arch in ruta.glob(\"Defun*.txt\") \n",
    "                if año_inicio <= int(arch.stem[-4:]) <= año_fin]\n",
    "    \n",
    "    dfs = []\n",
    "    for archivo in tqdm(archivos, desc=\"Leyendo archivos\"):\n",
    "        try:\n",
    "            df = pd.read_csv(archivo, sep='\\t', encoding='utf-8', \n",
    "                           low_memory=False, dtype=str)\n",
    "            df.columns = df.columns.str.upper()\n",
    "            dfs.append(df)\n",
    "        except Exception as e:\n",
    "            print(f\"Error en {archivo.name}: {e}\")\n",
    "    \n",
    "    return pd.concat(dfs, ignore_index=True) if dfs else pd.DataFrame()"
   ]
  },
  {
   "cell_type": "markdown",
   "id": "1b908071",
   "metadata": {},
   "source": [
    "## 3. EJECUTAR PROCESO PRINCIPAL"
   ]
  },
  {
   "cell_type": "code",
   "execution_count": 3,
   "id": "fd4f90cb",
   "metadata": {},
   "outputs": [
    {
     "name": "stdout",
     "output_type": "stream",
     "text": [
      "============================================================\n",
      "ANÁLISIS EXPLORATORIO DE DATOS - DEFUNCIONES 1979-1991\n",
      "============================================================\n",
      "\n",
      "1. LEYENDO ARCHIVOS DE DEFUNCIONES...\n"
     ]
    },
    {
     "name": "stderr",
     "output_type": "stream",
     "text": [
      "Leyendo archivos: 100%|██████████| 5/5 [00:01<00:00,  4.13it/s]"
     ]
    },
    {
     "name": "stdout",
     "output_type": "stream",
     "text": [
      "   Total registros: 848,360\n",
      "   Columnas: ['COD_DPTO', 'COD_MUNIC', 'A_DEFUN', 'ANO', 'MES', 'SEXO', 'GRU_ED1', 'GRU_ED2', 'EST_CIVIL', 'CODPTORE', 'CODMUNRE', 'AREA_RES', 'PERMAN_MUN', 'SIT_DEFUN', 'C_BAS1', 'CONS_EXP', 'CAU_HOMOL']\n"
     ]
    },
    {
     "name": "stderr",
     "output_type": "stream",
     "text": [
      "\n"
     ]
    }
   ],
   "source": [
    "# =============================================================================\n",
    "# 2. PROCESO PRINCIPAL\n",
    "# =============================================================================\n",
    "\n",
    "print(\"=\" * 60)\n",
    "print(\"ANÁLISIS EXPLORATORIO DE DATOS - DEFUNCIONES 1979-1991\")\n",
    "print(\"=\" * 60)\n",
    "\n",
    "# 2.1. Leer archivos de defunciones\n",
    "print(\"\\n1. LEYENDO ARCHIVOS DE DEFUNCIONES...\")\n",
    "df_defun = leer_archivos_defunciones(\"data/raw/Muertes\", 1992, 1996)\n",
    "print(f\"   Total registros: {len(df_defun):,}\")\n",
    "print(f\"   Columnas: {list(df_defun.columns)}\")"
   ]
  }
 ],
 "metadata": {
  "kernelspec": {
   "display_name": "base",
   "language": "python",
   "name": "python3"
  },
  "language_info": {
   "codemirror_mode": {
    "name": "ipython",
    "version": 3
   },
   "file_extension": ".py",
   "mimetype": "text/x-python",
   "name": "python",
   "nbconvert_exporter": "python",
   "pygments_lexer": "ipython3",
   "version": "3.12.7"
  }
 },
 "nbformat": 4,
 "nbformat_minor": 5
}
