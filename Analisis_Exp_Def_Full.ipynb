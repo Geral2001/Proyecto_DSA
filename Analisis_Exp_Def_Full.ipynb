{
 "cells": [
  {
   "cell_type": "markdown",
   "id": "025fedad",
   "metadata": {},
   "source": [
    "# COMBINACION ARCHIVOS PROCESADOS"
   ]
  },
  {
   "cell_type": "markdown",
   "id": "1c15ca2c",
   "metadata": {},
   "source": [
    "## 1. IMPORTAR LIBRERIAS"
   ]
  },
  {
   "cell_type": "code",
   "execution_count": 1,
   "id": "cd6f1700",
   "metadata": {},
   "outputs": [],
   "source": [
    "import pandas as pd"
   ]
  },
  {
   "cell_type": "markdown",
   "id": "b71da12e",
   "metadata": {},
   "source": [
    "## 2. LECTURA DE ARCHIVOS"
   ]
  },
  {
   "cell_type": "markdown",
   "id": "5d0817d4",
   "metadata": {},
   "source": [
    "### 2.1. Leer defunciones 1979-1991"
   ]
  },
  {
   "cell_type": "code",
   "execution_count": 2,
   "id": "4ab1d745",
   "metadata": {},
   "outputs": [
    {
     "name": "stdout",
     "output_type": "stream",
     "text": [
      "Registros cargados: 1,869,025\n"
     ]
    }
   ],
   "source": [
    "# Para leer el archivo guardado en otra sesión:\n",
    "df_defun = pd.read_parquet(\"data/processed/defunciones_1979_1991_procesado.parquet\")\n",
    "print(f\"Registros cargados: {len(df_defun):,}\")"
   ]
  }
 ],
 "metadata": {
  "kernelspec": {
   "display_name": "base",
   "language": "python",
   "name": "python3"
  },
  "language_info": {
   "codemirror_mode": {
    "name": "ipython",
    "version": 3
   },
   "file_extension": ".py",
   "mimetype": "text/x-python",
   "name": "python",
   "nbconvert_exporter": "python",
   "pygments_lexer": "ipython3",
   "version": "3.12.7"
  }
 },
 "nbformat": 4,
 "nbformat_minor": 5
}
